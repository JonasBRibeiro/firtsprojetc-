{
  "nbformat": 4,
  "nbformat_minor": 0,
  "metadata": {
    "colab": {
      "provenance": [],
      "authorship_tag": "ABX9TyOVEWMdoF/5R09jRGcKY1rM",
      "include_colab_link": true
    },
    "kernelspec": {
      "name": "python3",
      "display_name": "Python 3"
    },
    "language_info": {
      "name": "python"
    }
  },
  "cells": [
    {
      "cell_type": "markdown",
      "metadata": {
        "id": "view-in-github",
        "colab_type": "text"
      },
      "source": [
        "<a href=\"https://colab.research.google.com/github/JonasBRibeiro/firtsprojetc-/blob/main/trabalho_un3.ipynb\" target=\"_parent\"><img src=\"https://colab.research.google.com/assets/colab-badge.svg\" alt=\"Open In Colab\"/></a>"
      ]
    },
    {
      "cell_type": "code",
      "source": [
        "# ============================================\n",
        "# Passo 1 e 2: Criar a lista de livros\n",
        "# ============================================\n",
        "# Cada livro será representado por um dicionário\n",
        "biblioteca = []\n",
        "\n",
        "\n",
        "# ============================================\n",
        "# Passo 3: Funções para gerenciar os livros\n",
        "# ============================================\n",
        "\n",
        "# Função para cadastrar um novo livro\n",
        "def cadastrar_livro(titulo, autor, genero, quantidade):\n",
        "    livro = {\n",
        "        \"titulo\": titulo,\n",
        "        \"autor\": autor,\n",
        "        \"genero\": genero,\n",
        "        \"quantidade\": quantidade\n",
        "    }\n",
        "    biblioteca.append(livro)\n",
        "    print(f\"✅ Livro '{titulo}' cadastrado com sucesso!\")\n",
        "\n",
        "# Função para listar todos os livros\n",
        "def listar_livros():\n",
        "    if not biblioteca:\n",
        "        print(\"📚 Nenhum livro cadastrado ainda.\")\n",
        "    else:\n",
        "        print(\"📚 Livros disponíveis na biblioteca:\")\n",
        "        for livro in biblioteca:\n",
        "            print(f\"Título: {livro['titulo']}, Autor: {livro['autor']}, \"\n",
        "                  f\"Gênero: {livro['genero']}, Quantidade: {livro['quantidade']}\")\n",
        "\n",
        "# Função para buscar um livro pelo título\n",
        "def buscar_livro(titulo):\n",
        "    encontrados = [livro for livro in biblioteca if livro['titulo'].lower() == titulo.lower()]\n",
        "    if encontrados:\n",
        "        print(\"🔍 Livro encontrado:\")\n",
        "        for livro in encontrados:\n",
        "            print(f\"Título: {livro['titulo']}, Autor: {livro['autor']}, \"\n",
        "                  f\"Gênero: {livro['genero']}, Quantidade: {livro['quantidade']}\")\n",
        "    else:\n",
        "        print(f\"⚠️ Livro '{titulo}' não encontrado.\")\n",
        "\n",
        "# Função para cadastrar vários livros de forma interativa\n",
        "def cadastrar_varios_livros():\n",
        "    while True:\n",
        "        titulo = input(\"Digite o título do livro: \")\n",
        "        autor = input(\"Digite o autor do livro: \")\n",
        "        genero = input(\"Digite o gênero do livro: \")\n",
        "\n",
        "        try:\n",
        "            quantidade = int(input(\"Digite a quantidade disponível: \"))\n",
        "        except ValueError:\n",
        "            print(\"⚠️ Quantidade inválida, cadastrando como 1.\")\n",
        "            quantidade = 1\n",
        "\n",
        "        cadastrar_livro(titulo, autor, genero, quantidade)\n",
        "\n",
        "        continuar = input(\"Deseja cadastrar outro livro? (s/n): \").strip().lower()\n",
        "        if continuar != 's':\n",
        "            break\n",
        "\n",
        "\n",
        "# ============================================\n",
        "# Passo 4: Gerar gráfico com Matplotlib\n",
        "# ============================================\n",
        "\n",
        "import matplotlib.pyplot as plt\n",
        "\n",
        "def gerar_grafico():\n",
        "    if not biblioteca:\n",
        "        print(\"⚠️ Não há livros cadastrados para gerar gráfico.\")\n",
        "        return\n",
        "\n",
        "    # Contar quantidade de livros por gênero\n",
        "    generos = {}\n",
        "    for livro in biblioteca:\n",
        "        generos[livro['genero']] = generos.get(livro['genero'], 0) + livro['quantidade']\n",
        "\n",
        "    # Gerar gráfico de barras\n",
        "    plt.bar(generos.keys(), generos.values())\n",
        "    plt.title(\"Quantidade de Livros por Gênero\")\n",
        "    plt.xlabel(\"Gênero\")\n",
        "    plt.ylabel(\"Quantidade\")\n",
        "    plt.show()\n",
        "\n",
        "\n",
        "# ============================================\n",
        "# Passo 5: Testar o sistema\n",
        "# ============================================\n",
        "\n",
        "# Cadastro inicial (opcional)\n",
        "cadastrar_livro(\"Dom Casmurro\", \"Machado de Assis\", \"Romance\", 5)\n",
        "cadastrar_livro(\"O Senhor dos Anéis\", \"J.R.R. Tolkien\", \"Fantasia\", 3)\n",
        "\n",
        "print(\"\\n--- Cadastro interativo ---\")\n",
        "cadastrar_varios_livros()  # 👈 você pode cadastrar vários manualmente\n",
        "\n",
        "print(\"\\n--- Listando todos os livros cadastrados ---\")\n",
        "listar_livros()\n",
        "\n",
        "\n",
        "\n",
        "\n",
        "print(\"\\n--- Gerando gráfico atualizado ---\")\n",
        "gerar_grafico()\n"
      ],
      "metadata": {
        "colab": {
          "base_uri": "https://localhost:8080/",
          "height": 426
        },
        "id": "g_587asVPJH3",
        "outputId": "8b410fbc-7af9-4fa2-e989-8b038000805c"
      },
      "execution_count": 16,
      "outputs": [
        {
          "output_type": "stream",
          "name": "stdout",
          "text": [
            "✅ Livro 'Dom Casmurro' cadastrado com sucesso!\n",
            "✅ Livro 'O Senhor dos Anéis' cadastrado com sucesso!\n",
            "\n",
            "--- Cadastro interativo ---\n"
          ]
        },
        {
          "output_type": "error",
          "ename": "KeyboardInterrupt",
          "evalue": "Interrupted by user",
          "traceback": [
            "\u001b[0;31m---------------------------------------------------------------------------\u001b[0m",
            "\u001b[0;31mKeyboardInterrupt\u001b[0m                         Traceback (most recent call last)",
            "\u001b[0;32m/tmp/ipython-input-1332113140.py\u001b[0m in \u001b[0;36m<cell line: 0>\u001b[0;34m()\u001b[0m\n\u001b[1;32m     95\u001b[0m \u001b[0;34m\u001b[0m\u001b[0m\n\u001b[1;32m     96\u001b[0m \u001b[0mprint\u001b[0m\u001b[0;34m(\u001b[0m\u001b[0;34m\"\\n--- Cadastro interativo ---\"\u001b[0m\u001b[0;34m)\u001b[0m\u001b[0;34m\u001b[0m\u001b[0;34m\u001b[0m\u001b[0m\n\u001b[0;32m---> 97\u001b[0;31m \u001b[0mcadastrar_varios_livros\u001b[0m\u001b[0;34m(\u001b[0m\u001b[0;34m)\u001b[0m  \u001b[0;31m# 👈 você pode cadastrar vários manualmente\u001b[0m\u001b[0;34m\u001b[0m\u001b[0;34m\u001b[0m\u001b[0m\n\u001b[0m\u001b[1;32m     98\u001b[0m \u001b[0;34m\u001b[0m\u001b[0m\n\u001b[1;32m     99\u001b[0m \u001b[0mprint\u001b[0m\u001b[0;34m(\u001b[0m\u001b[0;34m\"\\n--- Listando todos os livros cadastrados ---\"\u001b[0m\u001b[0;34m)\u001b[0m\u001b[0;34m\u001b[0m\u001b[0;34m\u001b[0m\u001b[0m\n",
            "\u001b[0;32m/tmp/ipython-input-1332113140.py\u001b[0m in \u001b[0;36mcadastrar_varios_livros\u001b[0;34m()\u001b[0m\n\u001b[1;32m     45\u001b[0m \u001b[0;32mdef\u001b[0m \u001b[0mcadastrar_varios_livros\u001b[0m\u001b[0;34m(\u001b[0m\u001b[0;34m)\u001b[0m\u001b[0;34m:\u001b[0m\u001b[0;34m\u001b[0m\u001b[0;34m\u001b[0m\u001b[0m\n\u001b[1;32m     46\u001b[0m     \u001b[0;32mwhile\u001b[0m \u001b[0;32mTrue\u001b[0m\u001b[0;34m:\u001b[0m\u001b[0;34m\u001b[0m\u001b[0;34m\u001b[0m\u001b[0m\n\u001b[0;32m---> 47\u001b[0;31m         \u001b[0mtitulo\u001b[0m \u001b[0;34m=\u001b[0m \u001b[0minput\u001b[0m\u001b[0;34m(\u001b[0m\u001b[0;34m\"Digite o título do livro: \"\u001b[0m\u001b[0;34m)\u001b[0m\u001b[0;34m\u001b[0m\u001b[0;34m\u001b[0m\u001b[0m\n\u001b[0m\u001b[1;32m     48\u001b[0m         \u001b[0mautor\u001b[0m \u001b[0;34m=\u001b[0m \u001b[0minput\u001b[0m\u001b[0;34m(\u001b[0m\u001b[0;34m\"Digite o autor do livro: \"\u001b[0m\u001b[0;34m)\u001b[0m\u001b[0;34m\u001b[0m\u001b[0;34m\u001b[0m\u001b[0m\n\u001b[1;32m     49\u001b[0m         \u001b[0mgenero\u001b[0m \u001b[0;34m=\u001b[0m \u001b[0minput\u001b[0m\u001b[0;34m(\u001b[0m\u001b[0;34m\"Digite o gênero do livro: \"\u001b[0m\u001b[0;34m)\u001b[0m\u001b[0;34m\u001b[0m\u001b[0;34m\u001b[0m\u001b[0m\n",
            "\u001b[0;32m/usr/local/lib/python3.12/dist-packages/ipykernel/kernelbase.py\u001b[0m in \u001b[0;36mraw_input\u001b[0;34m(self, prompt)\u001b[0m\n\u001b[1;32m   1175\u001b[0m                 \u001b[0;34m\"raw_input was called, but this frontend does not support input requests.\"\u001b[0m\u001b[0;34m\u001b[0m\u001b[0;34m\u001b[0m\u001b[0m\n\u001b[1;32m   1176\u001b[0m             )\n\u001b[0;32m-> 1177\u001b[0;31m         return self._input_request(\n\u001b[0m\u001b[1;32m   1178\u001b[0m             \u001b[0mstr\u001b[0m\u001b[0;34m(\u001b[0m\u001b[0mprompt\u001b[0m\u001b[0;34m)\u001b[0m\u001b[0;34m,\u001b[0m\u001b[0;34m\u001b[0m\u001b[0;34m\u001b[0m\u001b[0m\n\u001b[1;32m   1179\u001b[0m             \u001b[0mself\u001b[0m\u001b[0;34m.\u001b[0m\u001b[0m_parent_ident\u001b[0m\u001b[0;34m[\u001b[0m\u001b[0;34m\"shell\"\u001b[0m\u001b[0;34m]\u001b[0m\u001b[0;34m,\u001b[0m\u001b[0;34m\u001b[0m\u001b[0;34m\u001b[0m\u001b[0m\n",
            "\u001b[0;32m/usr/local/lib/python3.12/dist-packages/ipykernel/kernelbase.py\u001b[0m in \u001b[0;36m_input_request\u001b[0;34m(self, prompt, ident, parent, password)\u001b[0m\n\u001b[1;32m   1217\u001b[0m             \u001b[0;32mexcept\u001b[0m \u001b[0mKeyboardInterrupt\u001b[0m\u001b[0;34m:\u001b[0m\u001b[0;34m\u001b[0m\u001b[0;34m\u001b[0m\u001b[0m\n\u001b[1;32m   1218\u001b[0m                 \u001b[0;31m# re-raise KeyboardInterrupt, to truncate traceback\u001b[0m\u001b[0;34m\u001b[0m\u001b[0;34m\u001b[0m\u001b[0m\n\u001b[0;32m-> 1219\u001b[0;31m                 \u001b[0;32mraise\u001b[0m \u001b[0mKeyboardInterrupt\u001b[0m\u001b[0;34m(\u001b[0m\u001b[0;34m\"Interrupted by user\"\u001b[0m\u001b[0;34m)\u001b[0m \u001b[0;32mfrom\u001b[0m \u001b[0;32mNone\u001b[0m\u001b[0;34m\u001b[0m\u001b[0;34m\u001b[0m\u001b[0m\n\u001b[0m\u001b[1;32m   1220\u001b[0m             \u001b[0;32mexcept\u001b[0m \u001b[0mException\u001b[0m\u001b[0;34m:\u001b[0m\u001b[0;34m\u001b[0m\u001b[0;34m\u001b[0m\u001b[0m\n\u001b[1;32m   1221\u001b[0m                 \u001b[0mself\u001b[0m\u001b[0;34m.\u001b[0m\u001b[0mlog\u001b[0m\u001b[0;34m.\u001b[0m\u001b[0mwarning\u001b[0m\u001b[0;34m(\u001b[0m\u001b[0;34m\"Invalid Message:\"\u001b[0m\u001b[0;34m,\u001b[0m \u001b[0mexc_info\u001b[0m\u001b[0;34m=\u001b[0m\u001b[0;32mTrue\u001b[0m\u001b[0;34m)\u001b[0m\u001b[0;34m\u001b[0m\u001b[0;34m\u001b[0m\u001b[0m\n",
            "\u001b[0;31mKeyboardInterrupt\u001b[0m: Interrupted by user"
          ]
        }
      ]
    }
  ]
}