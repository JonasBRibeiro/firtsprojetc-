{
  "nbformat": 4,
  "nbformat_minor": 0,
  "metadata": {
    "colab": {
      "provenance": [],
      "authorship_tag": "ABX9TyPdEKQ0GafcxGL4ovmpOwbC",
      "include_colab_link": true
    },
    "kernelspec": {
      "name": "python3",
      "display_name": "Python 3"
    },
    "language_info": {
      "name": "python"
    }
  },
  "cells": [
    {
      "cell_type": "markdown",
      "metadata": {
        "id": "view-in-github",
        "colab_type": "text"
      },
      "source": [
        "<a href=\"https://colab.research.google.com/github/JonasBRibeiro/firtsprojetc-/blob/main/introsql.ipynb\" target=\"_parent\"><img src=\"https://colab.research.google.com/assets/colab-badge.svg\" alt=\"Open In Colab\"/></a>"
      ]
    },
    {
      "cell_type": "code",
      "execution_count": 9,
      "metadata": {
        "id": "_XZcm8MQQk4D"
      },
      "outputs": [],
      "source": [
        "import sqlite3\n",
        "\n",
        "# 1. Conectar ao banco de dados (ou criar um novo)\n",
        "# Usando a funçao connect do modulo sqlite3 para se conectar a um bando de dados SQLite\n",
        "# Chamado 'exemplo.db'. Se o banco de dados nao existir ele sera criado automaticamente\n",
        "conn = sqlite3.connect('exemplo.db')\n",
        "\n",
        "# 2. Criar um objeto cursor\n",
        "# O cursor é usado para executar comandos SQL no banco de dados.\n",
        "#Ele atua 'como uma especie de ponteiro que percorre os resultados de consultas.\n",
        "cursor = conn.cursor()\n",
        "\n",
        "# 3. Definir  o comando SQL para criar a tabela\n",
        "#define uma string create_table que contem um comando SQL para criar uma teabela chamda \"Produtos\"\n",
        "#Esta tavela tera quatro colunas: id (chave primaria), bine (texto), preco (numero real) e estoque (numero inteiro).\n",
        "# O IF NOT EXIST garante que a taveka so sera criada se ainda nao existir\n",
        "create_table = \"\"\"\n",
        "CREATE TABLE IF NOT EXISTS Produtos (\n",
        "    id INTEGER PRIMARY KEY,\n",
        "    nome TEXT NOT NULL,\n",
        "    preco REAL NOT NULL,\n",
        "    estoque INTEGER\n",
        ");\n",
        "\"\"\"\n",
        "#Usa o metado execute do onjeto cursor para executar o comando SQL difinido anteriormente e criar a tabela no banco de dados\n",
        "# 4. Executar o comando SQL para criar a tabela\n",
        "cursor.execute(create_table)\n",
        "\n",
        "\n",
        "# 5. Confirmar as alteraçoes (commit)\n",
        "#Após a execuçao bem-sucedida do comando SQL, usa o metodo commit no objeto de conexao (conn) para confirmar as alteraçoes no banco de dados\n",
        "#Isso garante que as alteraçoens sejam efetivamente aplicadas\n",
        "conn.commit()\n",
        "\n",
        "\n",
        "# 6. Fechar a conexao com o bando de dados\n",
        "# Finalmente, voce usa o metado 'close no objeto de conexao para encerrar a conexao com o banco de dados.\n",
        "#É uma pratica recomendada fechar a conexao apos a conclusao das operacoes para livrar recursos e evitar possiveis problemas de concorrencia.\n",
        "conn.close()\n",
        "\n",
        "\n",
        "\n",
        "\n"
      ]
    },
    {
      "cell_type": "code",
      "source": [],
      "metadata": {
        "id": "aO5C617_WwV4"
      },
      "execution_count": null,
      "outputs": []
    },
    {
      "cell_type": "code",
      "source": [],
      "metadata": {
        "id": "YS7--TRnXUeU"
      },
      "execution_count": null,
      "outputs": []
    },
    {
      "cell_type": "code",
      "source": [],
      "metadata": {
        "id": "AodSZzcCXUhF"
      },
      "execution_count": null,
      "outputs": []
    },
    {
      "cell_type": "code",
      "source": [],
      "metadata": {
        "id": "MAYkHXXEXUjr"
      },
      "execution_count": null,
      "outputs": []
    },
    {
      "cell_type": "code",
      "source": [
        "#adicionar produto\n",
        "import sqlite3\n",
        "# Conectando ao banco de dados\n",
        "conn = sqlite3.connect('exemplo.db')\n",
        "cursor = conn.cursor()\n",
        "# Dados do novo produto\n",
        "novo_produto = ('Camiseta', 29.99, 50)\n",
        "# Comando SQL para inserir o novo produto na tebela\n",
        "inserir_produto = \"INSERT INTO Produtos (nome, preco, estoque) VALUES (?, ?, ?)\"\n",
        "# Executando o comando SQL para inserir o novo produto\n",
        "cursor.execute(inserir_produto, novo_produto)\n",
        "# Confirmando as alterações\n",
        "conn.commit()\n",
        "# Fechando a conexão\n",
        "conn.close()\n"
      ],
      "metadata": {
        "id": "2ExaY0_NXUmH"
      },
      "execution_count": 12,
      "outputs": []
    },
    {
      "cell_type": "code",
      "source": [
        "#Visualizar o produto\n",
        "# Conectando ao banco de dados\n",
        "conn = sqlite3.connect('exemplo.db')\n",
        "cursor = conn.cursor()\n",
        "# Comando SQL para selecionar todos os produtos\n",
        "selecionar_produtos = \"SELECT * FROM Produtos\"\n",
        "# Executando o comando SQL\n",
        "cursor.execute(selecionar_produtos)\n",
        "# Obetendo todos os registros e exibindo-os\n",
        "produtos = cursor.fetchall()\n",
        "for produto in produtos:\n",
        "  print(produto)\n",
        "# Fechando a conexão\n",
        "conn.close()"
      ],
      "metadata": {
        "colab": {
          "base_uri": "https://localhost:8080/"
        },
        "id": "oeFfQ_EcYe_i",
        "outputId": "039bd95f-4784-4492-fde3-c8143a40d37d"
      },
      "execution_count": 17,
      "outputs": [
        {
          "output_type": "stream",
          "name": "stdout",
          "text": [
            "(2, 'Camiseta', 29.99, 50)\n"
          ]
        }
      ]
    },
    {
      "cell_type": "code",
      "source": [],
      "metadata": {
        "id": "l2MSxim5a1vL"
      },
      "execution_count": null,
      "outputs": []
    },
    {
      "cell_type": "code",
      "source": [],
      "metadata": {
        "id": "HGsd6l1-a10A"
      },
      "execution_count": null,
      "outputs": []
    },
    {
      "cell_type": "code",
      "source": [
        "#Atualizar produto\n",
        "import sqlite3\n",
        "# Conectando ao bando de dados\n",
        "conn = sqlite3.connect('exemplo.db')\n",
        "cursor = conn.cursor()\n",
        "# Novo preço e ID do produto a ser atualizado\n",
        "novo_preco = 24.99\n",
        "produto_id = 1 # Suponhamos que queremos atualiza o produto com ID 1\n",
        "# Comando SQL para atualizar o preço do produto\n",
        "atualizar_preco = \"UPDATE Produtos SET preco = ? WHERE id = ?\"\n",
        "# Executando o comando SQL para atualizar o preço do produto\n",
        "cursor.execute(atualizar_preco, (novo_preco, produto_id))\n",
        "# Confirmando as alterações\n",
        "conn.commit()\n",
        "# Fechando conexao\n",
        "conn.close()"
      ],
      "metadata": {
        "id": "iroP_89dZTR5"
      },
      "execution_count": 14,
      "outputs": []
    },
    {
      "cell_type": "code",
      "source": [
        "#excluir produto\n",
        "import sqlite3\n",
        "# Conectando ao bando de dados\n",
        "conn = sqlite3.connect('exemplo.db')\n",
        "cursor = conn.cursor()\n",
        "# ID do produto a ser excluido\n",
        "produto_id = 1 # Suponhamos que queremos excluir o produto com ID 1\n",
        "# Comando SQL para excluir o produto\n",
        "exluir_produto = \"DELETE FROM Produtos WHERE id = ?\"\n",
        "# Executando o comando SQL para excluir o produto\n",
        "cursor.execute(exluir_produto, (produto_id,))\n",
        "# Confirmando as alterações\n",
        "conn.commit()\n",
        "# Fechando conexao\n",
        "conn.close()"
      ],
      "metadata": {
        "id": "QBLmTeDNaLA5"
      },
      "execution_count": 16,
      "outputs": []
    },
    {
      "cell_type": "code",
      "source": [],
      "metadata": {
        "id": "suHP7a26a1r6"
      },
      "execution_count": null,
      "outputs": []
    },
    {
      "cell_type": "code",
      "source": [],
      "metadata": {
        "id": "Vd2C0Q68a4UZ"
      },
      "execution_count": null,
      "outputs": []
    },
    {
      "cell_type": "code",
      "source": [],
      "metadata": {
        "id": "ZiB-TfWza4XK"
      },
      "execution_count": null,
      "outputs": []
    },
    {
      "cell_type": "code",
      "source": [
        "import sqlite3\n",
        "# CREATE (Criaçao da tabela e inserçao de daos de exemplo)\n",
        "conn = sqlite3.connect('contatos.db')\n",
        "cursor = conn.cursor()\n",
        "cursor.execute('''\n",
        "    CREATE TABLE IF NOT EXISTS Contatos (\n",
        "    id INTEGER PRIMARY KEY AUTOINCREMENT,\n",
        "    nome TEXT,\n",
        "    email TEXT,\n",
        "    telefone TEXT\n",
        "    )\n",
        "''')\n",
        "dados_exemplo = [\n",
        "    ('João', 'joao@email', '123-456-7890'),\n",
        "    ('Maria', 'maria@email', '987-654-3210'),\n",
        "    ('Pedro', 'pedro@email', '555-555-5555')\n",
        "]\n",
        "cursor.executemany('INSERT INTO Contatos (nome, email, telefone) VALUES (?, ?, ?)', dados_exemplo)\n",
        "conn.commit()\n",
        "\n",
        "# READ (Leitura a exibiçao dos contatos)\n",
        "cursor.execute('SELECT * FROM Contatos')\n",
        "contatos = cursor.fetchall()\n",
        "print(\"Contatos:\")\n",
        "for contato in contatos:\n",
        "    print(contato)\n",
        "# UPDATE (Atualizaçao no numero de telefone do tontato com ID 2)\n",
        "\n",
        "novo_telefone = '999-999-9999'\n",
        "cursor.execute('UPDATE Contatos SET telefone = ? WHERE id = ?', (novo_telefone, 2))\n",
        "conn.commit()\n",
        "\n"
      ],
      "metadata": {
        "colab": {
          "base_uri": "https://localhost:8080/"
        },
        "id": "HMQH1fjJa4Zl",
        "outputId": "4ac38003-33ff-4e79-da9a-e9db066578f8"
      },
      "execution_count": 18,
      "outputs": [
        {
          "output_type": "stream",
          "name": "stdout",
          "text": [
            "Contatos:\n",
            "(1, 'João', 'joao@email', '123-456-7890')\n",
            "(2, 'Maria', 'maria@email', '987-654-3210')\n",
            "(3, 'Pedro', 'pedro@email', '555-555-5555')\n"
          ]
        }
      ]
    }
  ]
}